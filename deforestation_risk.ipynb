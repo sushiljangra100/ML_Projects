{
 "cells": [
  {
   "cell_type": "markdown",
   "metadata": {},
   "source": [
    "### libraries"
   ]
  },
  {
   "cell_type": "code",
   "execution_count": 17,
   "metadata": {},
   "outputs": [],
   "source": [
    "import rasterio\n",
    "import random\n",
    "import csv\n",
    "import geopandas as gpd\n",
    "from shapely.geometry import Point\n"
   ]
  },
  {
   "cell_type": "markdown",
   "metadata": {},
   "source": [
    "### Sampling the coordinates within the given boundary defined by shapefile\n",
    "#### we will sample 1000 points, 250  belonging to each of the classes, we can increase it based upon the requirements and availability of computation resources"
   ]
  },
  {
   "cell_type": "code",
   "execution_count": 19,
   "metadata": {},
   "outputs": [
    {
     "name": "stdout",
     "output_type": "stream",
     "text": [
      "200 points sampled within the boundary defined by the shapefile and saved to /home/sushil/data_f2/output/sampled_points_within_boundary.csv.\n"
     ]
    }
   ],
   "source": [
    "#sampling the points\n",
    "\n",
    "def sample_points_within_shapefile(tif_file, shapefile, num_total_samples=200, max_attempts=1000):\n",
    "    # Read shapefile boundary\n",
    "    boundary = gpd.read_file(shapefile).unary_union\n",
    "    \n",
    "    # Get boundary extent\n",
    "    minx, miny, maxx, maxy = boundary.bounds\n",
    "    \n",
    "    with rasterio.open(tif_file) as src:\n",
    "        rows, cols = src.shape\n",
    "        sampled_points = []\n",
    "        samples_per_class = [0, 0, 0, 0]  # Counter for samples per class\n",
    "\n",
    "        while len(sampled_points) < num_total_samples:\n",
    "            # Choose a random value between 0 and 3\n",
    "            value = random.randint(0, 3)\n",
    "\n",
    "            # Check if we already have enough samples for this class\n",
    "            if samples_per_class[value] >= num_total_samples / 4:\n",
    "                continue\n",
    "\n",
    "            attempts = 0\n",
    "            while samples_per_class[value] < num_total_samples / 4 and attempts < max_attempts:\n",
    "                attempts += 1\n",
    "                # Generate random coordinates within shapefile boundary extent\n",
    "                x = random.uniform(minx, maxx)\n",
    "                y = random.uniform(miny, maxy)\n",
    "                \n",
    "                # Check if the point is within the boundary geometry\n",
    "                if boundary.contains(Point(x, y)):\n",
    "                    try:\n",
    "                        col, row = src.index(x, y)\n",
    "                        pixel_value = src.read(1, window=((row, row+1), (col, col+1)))[0][0]\n",
    "                        if pixel_value == value:\n",
    "                            sampled_points.append((x, y, pixel_value))\n",
    "                            samples_per_class[value] += 1\n",
    "                            break  # Move to the next class\n",
    "                    except IndexError:\n",
    "                        pass  # Skip points outside the raster bounds or with no data\n",
    "\n",
    "    return sampled_points\n",
    "\n",
    "if __name__ == \"__main__\":\n",
    "    tif_file = \"/home/sushil/data_f2/lct_para_tmf.tif\"  # TIF file path\n",
    "    shapefile = \"/home/sushil/data_f2/bound/para_boundary2252.shp\"  # shapefile path\n",
    "    output_file = \"/home/sushil/data_f2/output/sampled_points_within_boundary.csv\"\n",
    "\n",
    "    num_total_samples = 200\n",
    "    sampled_points = sample_points_within_shapefile(tif_file, shapefile, num_total_samples)\n",
    "    \n",
    "    with open(output_file, 'w', newline='') as csvfile:\n",
    "        writer = csv.writer(csvfile)\n",
    "        writer.writerow(['X', 'Y', 'Class'])\n",
    "        for point in sampled_points:\n",
    "            writer.writerow([point[0], point[1], point[2]])\n",
    "\n",
    "    print(f\"{len(sampled_points)} points sampled within the boundary defined by the shapefile and saved to {output_file}.\")\n"
   ]
  },
  {
   "cell_type": "markdown",
   "metadata": {},
   "source": [
    "### getting the values of our features\n",
    "#### the sampled points will now be used to get values of different features i.e. elevation, land_cover, population densityetc. "
   ]
  },
  {
   "cell_type": "code",
   "execution_count": 20,
   "metadata": {},
   "outputs": [
    {
     "name": "stdout",
     "output_type": "stream",
     "text": [
      "Output CSV file saved successfully.\n"
     ]
    }
   ],
   "source": [
    "# Function to read elevation from GeoTIFF file based on coordinates\n",
    "def get_elevation_from_tif(tif_file, x, y):\n",
    "    with rasterio.open(tif_file) as src:\n",
    "        # Transforming the coordinates to pixel coordinates\n",
    "        px, py = src.index(x, y)\n",
    "        # Reading elevation value from the pixel coordinates\n",
    "        elevation = src.read(1, window=((py, py+1), (px, px+1)))\n",
    "    return elevation[0]\n",
    "\n",
    "# Path to the CSV file containing coordinates\n",
    "csv_file = '/home/sushil/data_f2/output/sampled_points_within_boundary.csv'\n",
    "# Path to the GeoTIFF file containing elevation data\n",
    "tif_file = '/home/sushil/data_f2/elevation_new.tif'\n",
    "# Path to save the output CSV file\n",
    "output_csv_file = '/home/sushil/data_f2/output/elevation_output.csv'\n",
    "\n",
    "# Open the CSV file to read coordinates and create a new CSV file to write elevations\n",
    "with open(csv_file, 'r') as input_file, open(output_csv_file, 'w', newline='') as output_file:\n",
    "    reader = csv.DictReader(input_file)\n",
    "    writer = csv.writer(output_file)\n",
    "    # Write header for the output CSV file\n",
    "    writer.writerow(['X', 'Y', 'Elevation'])\n",
    "    \n",
    "    for row in reader:\n",
    "        # Extracting coordinates from the CSV file\n",
    "        x = float(row['X'])\n",
    "        y = float(row['Y'])\n",
    "        # Getting elevation based on coordinates\n",
    "        elevation = get_elevation_from_tif(tif_file, x, y)\n",
    "        # Write the coordinates and elevation to the output CSV file\n",
    "        writer.writerow([x, y, elevation])\n",
    "\n",
    "print(\"Output CSV file saved successfully.\")\n"
   ]
  },
  {
   "cell_type": "code",
   "execution_count": 21,
   "metadata": {},
   "outputs": [
    {
     "name": "stdout",
     "output_type": "stream",
     "text": [
      "Output CSV file saved successfully.\n"
     ]
    }
   ],
   "source": [
    "# Function to read land cover from GeoTIFF file based on coordinates\n",
    "def get_land_cover_from_tif(tif_file, x, y):\n",
    "    try:\n",
    "        with rasterio.open(tif_file) as src:\n",
    "            # Transforming the coordinates to pixel coordinates\n",
    "            px, py = src.index(x, y)\n",
    "            # Reading land cover value from the pixel coordinates\n",
    "            land_cover = src.read(1, window=((py, py+1), (px, px+1)))\n",
    "        return land_cover[0]\n",
    "    except IndexError:\n",
    "        print(f\"No land cover data available at coordinates ({x}, {y})\")\n",
    "        return None\n",
    "    except Exception as e:\n",
    "        print(f\"Error reading land cover: {e}\")\n",
    "        return None\n",
    "\n",
    "# Path to the CSV file containing coordinates\n",
    "csv_file = '/home/sushil/data_f2/output/sampled_points_within_boundary.csv'\n",
    "# Path to the GeoTIFF file containing land cover data\n",
    "tif_file = '/home/sushil/data_f2/land_repo.tif'\n",
    "# Path to save the output CSV file\n",
    "output_csv_file = '/home/sushil/data_f2/output/land_cover_output.csv'\n",
    "\n",
    "# Open the CSV file to read coordinates and create a new CSV file to write land cover data\n",
    "with open(csv_file, 'r') as input_file, open(output_csv_file, 'w', newline='') as output_file:\n",
    "    reader = csv.DictReader(input_file)\n",
    "    writer = csv.writer(output_file)\n",
    "    # Write header for the output CSV file\n",
    "    writer.writerow(['X', 'Y', 'Land Cover'])\n",
    "    \n",
    "    for row in reader:\n",
    "        # Extracting coordinates from the CSV file\n",
    "        try:\n",
    "            x = float(row['X'])\n",
    "            y = float(row['Y'])\n",
    "        except ValueError:\n",
    "            print(\"Invalid coordinates found in CSV.\")\n",
    "            continue\n",
    "        \n",
    "        # Getting land cover based on coordinates\n",
    "        land_cover = get_land_cover_from_tif(tif_file, x, y)\n",
    "        if land_cover is not None:\n",
    "            # Write the coordinates and land cover to the output CSV file\n",
    "            writer.writerow([x, y, land_cover])\n",
    "\n",
    "print(\"Output CSV file saved successfully.\")\n"
   ]
  },
  {
   "cell_type": "code",
   "execution_count": 22,
   "metadata": {},
   "outputs": [
    {
     "name": "stdout",
     "output_type": "stream",
     "text": [
      "Output CSV file saved successfully.\n"
     ]
    }
   ],
   "source": [
    "# Function to read population from GeoTIFF file based on coordinates\n",
    "def get_population_from_tif(tif_file, x, y):\n",
    "    try:\n",
    "        with rasterio.open(tif_file) as src:\n",
    "            # Transforming the coordinates to pixel coordinates\n",
    "            px, py = src.index(x, y)\n",
    "            # Reading population value from the pixel coordinates\n",
    "            population = src.read(1, window=((py, py+1), (px, px+1)))\n",
    "        return population[0]\n",
    "    except IndexError:\n",
    "        print(f\"No population data available at coordinates ({x}, {y})\")\n",
    "        return None\n",
    "    except Exception as e:\n",
    "        print(f\"Error reading population: {e}\")\n",
    "        return None\n",
    "\n",
    "# Path to the CSV file containing coordinates\n",
    "csv_file = '/home/sushil/data_f2/output/sampled_points_within_boundary.csv'\n",
    "# Path to the GeoTIFF file containing population data\n",
    "tif_file = '/home/sushil/data_f2/pop_repo.tif'\n",
    "# Path to save the output CSV file\n",
    "output_csv_file = '/home/sushil/data_f2/output/population_output.csv'\n",
    "\n",
    "# Open the CSV file to read coordinates and create a new CSV file to write population data\n",
    "with open(csv_file, 'r') as input_file, open(output_csv_file, 'w', newline='') as output_file:\n",
    "    reader = csv.DictReader(input_file)\n",
    "    writer = csv.writer(output_file)\n",
    "    # Write header for the output CSV file\n",
    "    writer.writerow(['X', 'Y', 'Population'])\n",
    "    \n",
    "    for row in reader:\n",
    "        # Extracting coordinates from the CSV file\n",
    "        try:\n",
    "            x = float(row['X'])\n",
    "            y = float(row['Y'])\n",
    "        except ValueError:\n",
    "            print(\"Invalid coordinates found in CSV.\")\n",
    "            continue\n",
    "        \n",
    "        # Getting population based on coordinates\n",
    "        population = get_population_from_tif(tif_file, x, y)\n",
    "        if population is not None:\n",
    "            # Write the coordinates and population to the output CSV file\n",
    "            writer.writerow([x, y, population])\n",
    "\n",
    "print(\"Output CSV file saved successfully.\")\n"
   ]
  },
  {
   "cell_type": "code",
   "execution_count": null,
   "metadata": {},
   "outputs": [],
   "source": [
    "#Now we have the required data to train the model. We will first arrange this in a csv file named Book.csv and then proceed with model training and testing\n",
    "\n",
    "\n",
    "import pandas as pd\n",
    "import numpy as np\n",
    "from sklearn.model_selection import train_test_split\n",
    "from sklearn.preprocessing import MinMaxScaler, OneHotEncoder\n",
    "from tensorflow.keras.models import Sequential\n",
    "from tensorflow.keras.layers import Dense, Concatenate\n",
    "\n",
    "# Load the data\n",
    "data = pd.read_csv('Book.csv')\n",
    "\n",
    "# Separate features and labels\n",
    "X_land_cover = data['Land Cover']\n",
    "X_numeric = data[['Population', 'Elevation', 'HubDist']]\n",
    "y = data['class']\n",
    "\n",
    "# Convert 'Land Cover' feature to categorical\n",
    "X_land_cover = X_land_cover.astype('category')\n",
    "\n",
    "# One-hot encode 'Land Cover' feature\n",
    "encoder = OneHotEncoder(sparse=False)\n",
    "X_land_cover_encoded = encoder.fit_transform(X_land_cover.values.reshape(-1, 1))\n",
    "\n",
    "# Min-Max scaling for numeric features\n",
    "scaler = MinMaxScaler()\n",
    "X_numeric_scaled = scaler.fit_transform(X_numeric)\n",
    "\n",
    "# Concatenate encoded 'Land Cover' feature with scaled numeric features\n",
    "X = np.concatenate([X_numeric_scaled, X_land_cover_encoded], axis=1)\n",
    "\n",
    "# Split the data into training and testing sets\n",
    "X_train, X_test, y_train, y_test = train_test_split(X, y, test_size=0.2, random_state=42)\n",
    "\n",
    "# Building the ANN model\n",
    "model = Sequential([\n",
    "    Dense(64, activation='relu', input_shape=(X_train.shape[1],)),\n",
    "    Dense(64, activation='relu'),\n",
    "    Dense(1, activation='sigmoid')\n",
    "])\n",
    "\n",
    "# Compiling the model\n",
    "model.compile(optimizer='adam', loss='binary_crossentropy', metrics=['accuracy'])\n",
    "\n",
    "# Training the model\n",
    "model.fit(X_train, y_train, epochs=10, batch_size=32, validation_data=(X_test, y_test))\n"
   ]
  },
  {
   "cell_type": "markdown",
   "metadata": {},
   "source": [
    "### extra\n",
    "#### following cell changes the coordinate system from one to other. we can use QGIS also for this"
   ]
  },
  {
   "cell_type": "code",
   "execution_count": 23,
   "metadata": {},
   "outputs": [],
   "source": [
    "#for projection:\n",
    "#import rasterio\n",
    "#from rasterio.warp import calculate_default_transform, reproject, Resampling\n",
    "#from rasterio.crs import CRS\n",
    "\n",
    "# Define input and output file paths\n",
    "#input_file = '/home/sushil/data_2/elevation_clip.tif'\n",
    "#output_file = '/home/sushil/data/elevation_new.tif'\n",
    "\n",
    "# Define the target CRS (EPSG:32722)\n",
    "#target_crs = CRS.from_epsg(32722)\n",
    "\n",
    "# Open the input GeoTIFF file\n",
    "#with rasterio.open(input_file) as src:\n",
    "    # Retrieve metadata\n",
    "    #transform, width, height = calculate_default_transform(\n",
    "        #src.crs, target_crs, src.width, src.height, *src.bounds)\n",
    "    #kwargs = src.meta.copy()\n",
    "    #kwargs.update({\n",
    "        #'crs': target_crs,\n",
    "        #'transform': transform,\n",
    "        #'width': width,\n",
    "        #'height': height\n",
    "   # })\n",
    "\n",
    "    # Create output file\n",
    "   # with rasterio.open(output_file, 'w', **kwargs) as dst:\n",
    "        # Reproject the raster data\n",
    "       # for i in range(1, src.count + 1):\n",
    "            #reproject(\n",
    "               # source=rasterio.band(src, i),\n",
    "               # destination=rasterio.band(dst, i),\n",
    "               # src_transform=src.transform,\n",
    "               # src_crs=src.crs,\n",
    "               # dst_transform=transform,\n",
    "               # dst_crs=target_crs,\n",
    "               # resampling=Resampling.nearest)\n"
   ]
  },
  {
   "cell_type": "code",
   "execution_count": 24,
   "metadata": {},
   "outputs": [],
   "source": [
    "# extra libraries\n",
    "#import os\n",
    "#from shutil import copy2\n",
    "#import urllib.request\n",
    "#from zipfile import ZipFile\n",
    "#import forestatrisk as far"
   ]
  },
  {
   "cell_type": "code",
   "execution_count": null,
   "metadata": {},
   "outputs": [],
   "source": []
  }
 ],
 "metadata": {
  "kernelspec": {
   "display_name": "Python 3 (ipykernel)",
   "language": "python",
   "name": "python3"
  },
  "language_info": {
   "codemirror_mode": {
    "name": "ipython",
    "version": 3
   },
   "file_extension": ".py",
   "mimetype": "text/x-python",
   "name": "python",
   "nbconvert_exporter": "python",
   "pygments_lexer": "ipython3",
   "version": "3.10.9"
  }
 },
 "nbformat": 4,
 "nbformat_minor": 4
}
