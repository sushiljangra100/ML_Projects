{
 "cells": [
  {
   "cell_type": "markdown",
   "metadata": {},
   "source": [
    "## NEW CODE"
   ]
  },
  {
   "cell_type": "code",
   "execution_count": 1,
   "metadata": {
    "execution": {
     "iopub.execute_input": "2023-09-29T09:18:10.193285Z",
     "iopub.status.busy": "2023-09-29T09:18:10.192451Z",
     "iopub.status.idle": "2023-09-29T09:18:26.524402Z",
     "shell.execute_reply": "2023-09-29T09:18:26.523469Z",
     "shell.execute_reply.started": "2023-09-29T09:18:10.193249Z"
    }
   },
   "outputs": [
    {
     "name": "stderr",
     "output_type": "stream",
     "text": [
      "2023-09-30 01:34:02.420545: I tensorflow/core/util/port.cc:110] oneDNN custom operations are on. You may see slightly different numerical results due to floating-point round-off errors from different computation orders. To turn them off, set the environment variable `TF_ENABLE_ONEDNN_OPTS=0`.\n",
      "2023-09-30 01:34:02.421603: I tensorflow/tsl/cuda/cudart_stub.cc:28] Could not find cuda drivers on your machine, GPU will not be used.\n",
      "2023-09-30 01:34:02.443235: I tensorflow/tsl/cuda/cudart_stub.cc:28] Could not find cuda drivers on your machine, GPU will not be used.\n",
      "2023-09-30 01:34:02.443740: I tensorflow/core/platform/cpu_feature_guard.cc:182] This TensorFlow binary is optimized to use available CPU instructions in performance-critical operations.\n",
      "To enable the following instructions: AVX2 AVX_VNNI FMA, in other operations, rebuild TensorFlow with the appropriate compiler flags.\n",
      "2023-09-30 01:34:02.834349: W tensorflow/compiler/tf2tensorrt/utils/py_utils.cc:38] TF-TRT Warning: Could not find TensorRT\n"
     ]
    }
   ],
   "source": [
    "import numpy as np\n",
    "import pandas as pd\n",
    "import networkx as nx\n",
    "import itertools\n",
    "import random\n",
    "import math\n",
    "import matplotlib.pyplot as plt\n",
    "import csv\n",
    "from sklearn.model_selection import train_test_split\n",
    "from sklearn.preprocessing import StandardScaler\n",
    "from tensorflow import keras\n",
    "import tensorflow as tf\n",
    "from sklearn.ensemble import RandomForestClassifier\n",
    "from sklearn.metrics import accuracy_score, classification_report\n",
    "\n"
   ]
  },
  {
   "cell_type": "code",
   "execution_count": 2,
   "metadata": {
    "execution": {
     "iopub.execute_input": "2023-09-29T09:18:26.533321Z",
     "iopub.status.busy": "2023-09-29T09:18:26.530119Z",
     "iopub.status.idle": "2023-09-29T09:18:26.541974Z",
     "shell.execute_reply": "2023-09-29T09:18:26.540887Z",
     "shell.execute_reply.started": "2023-09-29T09:18:26.533286Z"
    }
   },
   "outputs": [],
   "source": [
    "# Function to read edges from a CSV file and return them as a dictionary\n",
    "def read_edges_from_csv(csv_file):\n",
    "    edges_dict = {}\n",
    "    with open(csv_file, mode='r') as file:\n",
    "        csv_reader = csv.reader(file)\n",
    "        for row in csv_reader:\n",
    "            source_node = int(row[0])\n",
    "            destination_nodes = [int(dest) for dest in row[1:] if dest.strip()]\n",
    "            if destination_nodes:\n",
    "                edges_dict[source_node] = destination_nodes\n",
    "    return edges_dict"
   ]
  },
  {
   "cell_type": "code",
   "execution_count": 3,
   "metadata": {
    "execution": {
     "iopub.execute_input": "2023-09-29T09:18:26.556357Z",
     "iopub.status.busy": "2023-09-29T09:18:26.555683Z",
     "iopub.status.idle": "2023-09-29T09:18:26.565909Z",
     "shell.execute_reply": "2023-09-29T09:18:26.565038Z",
     "shell.execute_reply.started": "2023-09-29T09:18:26.556328Z"
    }
   },
   "outputs": [],
   "source": [
    "def create_graph_from_edges(edges_dict):\n",
    "    G = nx.DiGraph()\n",
    "    for source, destination_list in edges_dict.items():\n",
    "        G.add_edges_from([(source, dest) for dest in destination_list])\n",
    "    return G"
   ]
  },
  {
   "cell_type": "code",
   "execution_count": 4,
   "metadata": {
    "execution": {
     "iopub.execute_input": "2023-09-29T09:18:26.568185Z",
     "iopub.status.busy": "2023-09-29T09:18:26.567290Z",
     "iopub.status.idle": "2023-09-29T09:18:26.594533Z",
     "shell.execute_reply": "2023-09-29T09:18:26.593845Z",
     "shell.execute_reply.started": "2023-09-29T09:18:26.568157Z"
    }
   },
   "outputs": [],
   "source": [
    "\n",
    "def calculate_features(G, edge_list):\n",
    "    common_neighbors = []\n",
    "    jaccard_coefficient = []\n",
    "    adamic_adar_coefficient = []\n",
    "    resource_allocation_index = []\n",
    "    sorenson_index = []\n",
    "    total_followers = []\n",
    "    friends_measure = []\n",
    "    in_degree = []  # New feature: In-degree of source node\n",
    "    out_degree = []  # New feature: Out-degree of source node\n",
    "    transitive_friends = []  # New feature: Transitive friends\n",
    "    edge_rank = []  # New feature: Edge rank\n",
    "    \n",
    "    G_undirected = G.to_undirected()\n",
    "    \n",
    "    for source, destination in edge_list:\n",
    "        if G.has_node(source) and G.has_node(destination):\n",
    "            # Common Neighbors (convert to undirected for this calculation)\n",
    "            common_neighbor_nodes = list(nx.common_neighbors(G_undirected, source, destination))\n",
    "            common_neighbors.append(len(common_neighbor_nodes))\n",
    "            \n",
    "            # Jaccard Coefficient\n",
    "            if len(common_neighbor_nodes) > 0:\n",
    "                jaccard_coefficient.append(list(nx.jaccard_coefficient(G_undirected, [(source, destination)]))[0][2])\n",
    "            else:\n",
    "                jaccard_coefficient.append(0.0)  # Set to 0 when there are no common neighbors\n",
    "            \n",
    "            # Adamic/Adar Index\n",
    "            if len(common_neighbor_nodes) > 0:\n",
    "                adamic_adar_coefficient.append(sum(1 / math.log(G.degree(u) + 1) for u in common_neighbor_nodes))\n",
    "            else:\n",
    "                adamic_adar_coefficient.append(0.0)  # Set to 0 when there are no common neighbors\n",
    "            \n",
    "            # Resource Allocation Index\n",
    "            if len(common_neighbor_nodes) > 0:\n",
    "                resource_allocation_index.append(sum(1 / G.degree(u) for u in common_neighbor_nodes))\n",
    "            else:\n",
    "                resource_allocation_index.append(0.0)  # Set to 0 when there are no common neighbors\n",
    "            \n",
    "            # Sørensen Index (SI)\n",
    "            if len(common_neighbor_nodes) > 0:\n",
    "                sorenson_index.append(2 * len(common_neighbor_nodes) / (G.degree(source) + G.degree(destination)))\n",
    "            else:\n",
    "                sorenson_index.append(0.0)  # Set to 0 when there are no common neighbors\n",
    "            \n",
    "            # Total Followers for Source Node (You can customize this feature as needed)\n",
    "            total_followers.append(len(G[source]))\n",
    "            \n",
    "            # Friends Measure (You can customize this feature as needed)\n",
    "            friends_measure.append(2 * len(common_neighbor_nodes) / (G.degree(source) + G.degree(destination)))\n",
    "            \n",
    "            # In-degree and Out-degree (Directed features)\n",
    "            in_degree.append(G.in_degree(source))\n",
    "            out_degree.append(G.out_degree(source))\n",
    "            \n",
    "            # Transitive Friends (Directed feature)\n",
    "            transitive_friends_count = 0\n",
    "            for neighbor in common_neighbor_nodes:\n",
    "                if G.has_edge(source, neighbor) and G.has_edge(neighbor, destination):\n",
    "                    transitive_friends_count += 1\n",
    "            transitive_friends.append(transitive_friends_count)\n",
    "            \n",
    "            # Edge Rank (You can customize this feature as needed)\n",
    "            edge_rank.append(0.0)  # Placeholder for edge rank\n",
    "            \n",
    "        else:\n",
    "            # If either source or destination node does not exist, append zeros for all features\n",
    "            common_neighbors.append(0)\n",
    "            jaccard_coefficient.append(0.0)\n",
    "            adamic_adar_coefficient.append(0.0)\n",
    "            resource_allocation_index.append(0.0)\n",
    "            sorenson_index.append(0.0)\n",
    "            total_followers.append(0)\n",
    "            friends_measure.append(0.0)\n",
    "            in_degree.append(0)  # In-degree of a non-existent node is 0\n",
    "            out_degree.append(0)  # Out-degree of a non-existent node is 0\n",
    "            transitive_friends.append(0)  # No transitive friends for non-existent nodes\n",
    "            edge_rank.append(0.0)  # Placeholder for edge rank\n",
    "\n",
    "    return common_neighbors, jaccard_coefficient, adamic_adar_coefficient, resource_allocation_index, sorenson_index, total_followers, friends_measure, in_degree, out_degree, transitive_friends, edge_rank\n"
   ]
  },
  {
   "cell_type": "code",
   "execution_count": 5,
   "metadata": {
    "execution": {
     "iopub.execute_input": "2023-09-29T09:18:26.602781Z",
     "iopub.status.busy": "2023-09-29T09:18:26.599514Z",
     "iopub.status.idle": "2023-09-29T09:18:26.616970Z",
     "shell.execute_reply": "2023-09-29T09:18:26.615998Z",
     "shell.execute_reply.started": "2023-09-29T09:18:26.602745Z"
    }
   },
   "outputs": [],
   "source": [
    "def train_model(X_train, y_train, X_val, y_val):\n",
    "    model = keras.Sequential([\n",
    "    keras.layers.Dense(128, activation='Leakyrelu', input_shape=(X_train.shape[1],)),\n",
    "    keras.layers.Dense(64, activation='relu'),\n",
    "    keras.layers.Dropout(0.5),\n",
    "    keras.layers.Dense(32, activation='relu'),\n",
    "    keras.layers.Dropout(0.5),\n",
    "    keras.layers.Dense(1, activation='sigmoid')\n",
    "])\n",
    "  \n",
    "    model.compile(optimizer='adam', loss='binary_crossentropy', metrics=['accuracy'])\n",
    "    \n",
    "    \n",
    "    # Early stopping to terminate training early if the validation accuracy doesn't improve\n",
    "    early_stopping = keras.callbacks.EarlyStopping(patience=5, monitor='val_loss', restore_best_weights=True)\n",
    "    \n",
    "    history = model.fit(X_train, y_train, epochs=50, batch_size=64, validation_data=(X_val, y_val), callbacks=[early_stopping])\n",
    "    \n",
    "    return model, history"
   ]
  },
  {
   "cell_type": "code",
   "execution_count": 6,
   "metadata": {
    "execution": {
     "iopub.execute_input": "2023-09-29T09:18:26.625178Z",
     "iopub.status.busy": "2023-09-29T09:18:26.621922Z",
     "iopub.status.idle": "2023-09-29T09:18:26.634361Z",
     "shell.execute_reply": "2023-09-29T09:18:26.633446Z",
     "shell.execute_reply.started": "2023-09-29T09:18:26.625147Z"
    }
   },
   "outputs": [],
   "source": [
    "\n",
    "\n",
    "# def train_random_forest(X_train, y_train):\n",
    "#     clf = RandomForestClassifier()\n",
    "#     clf.fit(X_train, y_train)\n",
    "#     return clf\n",
    "\n",
    "\n"
   ]
  },
  {
   "cell_type": "code",
   "execution_count": 7,
   "metadata": {
    "execution": {
     "iopub.execute_input": "2023-09-29T09:18:26.640118Z",
     "iopub.status.busy": "2023-09-29T09:18:26.638569Z",
     "iopub.status.idle": "2023-09-29T09:18:26.977650Z",
     "shell.execute_reply": "2023-09-29T09:18:26.976485Z",
     "shell.execute_reply.started": "2023-09-29T09:18:26.640087Z"
    }
   },
   "outputs": [],
   "source": [
    "# from sklearn.linear_model import LogisticRegression\n",
    "\n",
    "# def train_logistic_regression(X_train, y_train):\n",
    "#     clf = LogisticRegression()\n",
    "#     clf.fit(X_train, y_train)\n",
    "#     return clf\n"
   ]
  },
  {
   "cell_type": "code",
   "execution_count": 8,
   "metadata": {
    "execution": {
     "iopub.execute_input": "2023-09-29T09:18:26.979216Z",
     "iopub.status.busy": "2023-09-29T09:18:26.978893Z",
     "iopub.status.idle": "2023-09-29T09:19:41.014508Z",
     "shell.execute_reply": "2023-09-29T09:19:41.013494Z",
     "shell.execute_reply.started": "2023-09-29T09:18:26.979186Z"
    }
   },
   "outputs": [],
   "source": [
    "train_csv_file = 'train.csv'\n",
    "edges_dict = read_edges_from_csv(train_csv_file)\n",
    "G_train = create_graph_from_edges(edges_dict)"
   ]
  },
  {
   "cell_type": "code",
   "execution_count": 9,
   "metadata": {
    "execution": {
     "iopub.execute_input": "2023-09-29T09:19:58.944452Z",
     "iopub.status.busy": "2023-09-29T09:19:58.944082Z",
     "iopub.status.idle": "2023-09-29T09:19:58.964576Z",
     "shell.execute_reply": "2023-09-29T09:19:58.963335Z",
     "shell.execute_reply.started": "2023-09-29T09:19:58.944416Z"
    }
   },
   "outputs": [],
   "source": [
    "\n",
    "\n",
    "# Extract all 'source' nodes from edges_dict\n",
    "all_source_nodes = list(edges_dict.keys())\n",
    "len(all_source_nodes)\n",
    "\n",
    "# # Define the size of the subset\n",
    "subset_size = 15000\n",
    "\n",
    "# Randomly select a subset of 'source' nodes\n",
    "subset_nodes = random.sample(all_source_nodes, subset_size)\n"
   ]
  },
  {
   "cell_type": "code",
   "execution_count": 10,
   "metadata": {
    "execution": {
     "iopub.execute_input": "2023-09-29T09:20:03.416081Z",
     "iopub.status.busy": "2023-09-29T09:20:03.415749Z",
     "iopub.status.idle": "2023-09-29T09:20:05.225521Z",
     "shell.execute_reply": "2023-09-29T09:20:05.224524Z",
     "shell.execute_reply.started": "2023-09-29T09:20:03.416056Z"
    }
   },
   "outputs": [],
   "source": [
    "existing_edges = [(source, dest) for source, destinations in edges_dict.items() for dest in destinations]\n",
    "#print('length of existing_edges',len(existing_edges))"
   ]
  },
  {
   "cell_type": "code",
   "execution_count": 11,
   "metadata": {
    "execution": {
     "iopub.execute_input": "2023-09-29T09:20:05.227708Z",
     "iopub.status.busy": "2023-09-29T09:20:05.227360Z",
     "iopub.status.idle": "2023-09-29T09:20:05.244830Z",
     "shell.execute_reply": "2023-09-29T09:20:05.244039Z",
     "shell.execute_reply.started": "2023-09-29T09:20:05.227678Z"
    }
   },
   "outputs": [],
   "source": [
    "positive_samples = random.sample(existing_edges, subset_size)"
   ]
  },
  {
   "cell_type": "code",
   "execution_count": 12,
   "metadata": {
    "execution": {
     "iopub.execute_input": "2023-09-29T09:20:35.542151Z",
     "iopub.status.busy": "2023-09-29T09:20:35.541811Z",
     "iopub.status.idle": "2023-09-29T09:21:24.677358Z",
     "shell.execute_reply": "2023-09-29T09:21:24.676302Z",
     "shell.execute_reply.started": "2023-09-29T09:20:35.542126Z"
    }
   },
   "outputs": [],
   "source": [
    "\n",
    "G = nx.DiGraph()\n",
    "\n",
    "# Add edges from your loaded data\n",
    "for source, destination_list in edges_dict.items():\n",
    "    G.add_edges_from([(source, dest) for dest in destination_list])\n",
    "    \n",
    "all_nodes = list(G.nodes)"
   ]
  },
  {
   "cell_type": "code",
   "execution_count": 13,
   "metadata": {
    "execution": {
     "iopub.execute_input": "2023-09-29T09:21:24.680098Z",
     "iopub.status.busy": "2023-09-29T09:21:24.679179Z",
     "iopub.status.idle": "2023-09-29T09:21:24.698359Z",
     "shell.execute_reply": "2023-09-29T09:21:24.697360Z",
     "shell.execute_reply.started": "2023-09-29T09:21:24.680067Z"
    }
   },
   "outputs": [],
   "source": [
    "subset_nodes = random.sample(all_source_nodes, subset_size)"
   ]
  },
  {
   "cell_type": "code",
   "execution_count": 14,
   "metadata": {
    "execution": {
     "iopub.execute_input": "2023-09-29T09:21:24.700730Z",
     "iopub.status.busy": "2023-09-29T09:21:24.699841Z",
     "iopub.status.idle": "2023-09-29T09:29:52.895866Z",
     "shell.execute_reply": "2023-09-29T09:29:52.894801Z",
     "shell.execute_reply.started": "2023-09-29T09:21:24.700698Z"
    }
   },
   "outputs": [],
   "source": [
    "\n",
    "# Initialize a list to store the 100 randomly selected vertices\n",
    "randomly_selected_nodes = []\n",
    "\n",
    "# Randomly select nodes until you have 100 that are not directly connected to any of the `subset_nodes`\n",
    "while len(randomly_selected_nodes) < subset_size :\n",
    "    node = random.choice(all_nodes)\n",
    "    \n",
    "    # Check if the selected node is not in the `subset_nodes` and is not directly connected to any node in `subset_nodes`\n",
    "    if node not in subset_nodes and all(not G.has_edge(sub_node, node) for sub_node in subset_nodes):\n",
    "        randomly_selected_nodes.append(node)\n",
    "\n",
    "# `randomly_selected_nodes` now contains 100 vertices that are not directly connected to any vertex in `subset_nodes`\n"
   ]
  },
  {
   "cell_type": "code",
   "execution_count": 15,
   "metadata": {
    "execution": {
     "iopub.execute_input": "2023-09-29T09:29:52.898692Z",
     "iopub.status.busy": "2023-09-29T09:29:52.898387Z",
     "iopub.status.idle": "2023-09-29T09:29:53.004161Z",
     "shell.execute_reply": "2023-09-29T09:29:53.003207Z",
     "shell.execute_reply.started": "2023-09-29T09:29:52.898668Z"
    }
   },
   "outputs": [],
   "source": [
    "# Initialize an empty list to store the pairs\n",
    "negative_samples = []\n",
    "\n",
    "# Check if the two lists have the same length\n",
    "if len(subset_nodes) == len(randomly_selected_nodes):\n",
    "    # Iterate through both lists simultaneously and create pairs\n",
    "    for subset_node, random_node in zip(subset_nodes, randomly_selected_nodes):\n",
    "        pair = (subset_node, random_node)\n",
    "        negative_samples.append(pair)\n",
    "else:\n",
    "    print(\"Error: The two lists have different lengths.\")\n",
    "\n",
    "# Print the resulting list of pairs\n",
    "#print(negative_samples)\n"
   ]
  },
  {
   "cell_type": "code",
   "execution_count": 16,
   "metadata": {
    "execution": {
     "iopub.execute_input": "2023-09-29T09:29:53.006577Z",
     "iopub.status.busy": "2023-09-29T09:29:53.005802Z",
     "iopub.status.idle": "2023-09-29T09:29:53.012476Z",
     "shell.execute_reply": "2023-09-29T09:29:53.011614Z",
     "shell.execute_reply.started": "2023-09-29T09:29:53.006545Z"
    }
   },
   "outputs": [],
   "source": [
    "balanced_edges = positive_samples + negative_samples"
   ]
  },
  {
   "cell_type": "code",
   "execution_count": 17,
   "metadata": {
    "execution": {
     "iopub.status.idle": "2023-09-29T09:34:21.445164Z",
     "shell.execute_reply": "2023-09-29T09:34:21.444063Z",
     "shell.execute_reply.started": "2023-09-29T09:29:53.014526Z"
    }
   },
   "outputs": [],
   "source": [
    "# Calculate features for train data\n",
    "common_neighbors, jaccard_coefficient, adamic_adar_coefficient, resource_allocation_index, sorenson_index, total_followers, friends_measure, in_degree, out_degree, transitive_friends, edge_rank = calculate_features(G, balanced_edges)\n",
    "\n"
   ]
  },
  {
   "cell_type": "code",
   "execution_count": 18,
   "metadata": {
    "execution": {
     "iopub.execute_input": "2023-09-29T09:34:21.447247Z",
     "iopub.status.busy": "2023-09-29T09:34:21.446665Z",
     "iopub.status.idle": "2023-09-29T09:34:21.480439Z",
     "shell.execute_reply": "2023-09-29T09:34:21.479575Z",
     "shell.execute_reply.started": "2023-09-29T09:34:21.447212Z"
    }
   },
   "outputs": [],
   "source": [
    "# Combine features into a feature matrix\n",
    "X_train = np.column_stack((common_neighbors, jaccard_coefficient, adamic_adar_coefficient, resource_allocation_index, sorenson_index, total_followers, friends_measure, in_degree, out_degree, transitive_friends, edge_rank))\n",
    "y_train = np.array([1] * subset_size + [0] * subset_size)"
   ]
  },
  {
   "cell_type": "code",
   "execution_count": 19,
   "metadata": {
    "execution": {
     "iopub.execute_input": "2023-09-29T09:34:21.482818Z",
     "iopub.status.busy": "2023-09-29T09:34:21.481868Z",
     "iopub.status.idle": "2023-09-29T09:34:21.498810Z",
     "shell.execute_reply": "2023-09-29T09:34:21.497978Z",
     "shell.execute_reply.started": "2023-09-29T09:34:21.482786Z"
    }
   },
   "outputs": [
    {
     "name": "stdout",
     "output_type": "stream",
     "text": [
      "(30000, 11)\n",
      "(30000,)\n"
     ]
    }
   ],
   "source": [
    "print(X_train.shape)\n",
    "print(y_train.shape)"
   ]
  },
  {
   "cell_type": "code",
   "execution_count": 20,
   "metadata": {
    "execution": {
     "iopub.execute_input": "2023-09-29T09:34:21.500965Z",
     "iopub.status.busy": "2023-09-29T09:34:21.500085Z",
     "iopub.status.idle": "2023-09-29T09:34:21.517342Z",
     "shell.execute_reply": "2023-09-29T09:34:21.516477Z",
     "shell.execute_reply.started": "2023-09-29T09:34:21.500934Z"
    }
   },
   "outputs": [],
   "source": [
    "import pickle\n",
    "\n",
    "# Save X_train and y_train to a file\n",
    "with open('X_train.pkl', 'wb') as f:\n",
    "    pickle.dump(X_train, f)\n",
    "\n",
    "with open('y_train.pkl', 'wb') as f:\n",
    "    pickle.dump(y_train, f)\n",
    "import pickle\n",
    "\n",
    "\n"
   ]
  },
  {
   "cell_type": "code",
   "execution_count": 21,
   "metadata": {
    "execution": {
     "iopub.execute_input": "2023-09-29T09:34:21.521436Z",
     "iopub.status.busy": "2023-09-29T09:34:21.520774Z",
     "iopub.status.idle": "2023-09-29T09:34:21.546253Z",
     "shell.execute_reply": "2023-09-29T09:34:21.545455Z",
     "shell.execute_reply.started": "2023-09-29T09:34:21.521406Z"
    }
   },
   "outputs": [],
   "source": [
    "# Standardize the feature values\n",
    "scaler = StandardScaler()\n",
    "X_train_scaled = scaler.fit_transform(X_train)"
   ]
  },
  {
   "cell_type": "code",
   "execution_count": 22,
   "metadata": {
    "execution": {
     "iopub.execute_input": "2023-09-28T12:33:16.355316Z",
     "iopub.status.busy": "2023-09-28T12:33:16.354433Z",
     "iopub.status.idle": "2023-09-28T12:33:18.641270Z",
     "shell.execute_reply": "2023-09-28T12:33:18.640117Z",
     "shell.execute_reply.started": "2023-09-28T12:33:16.355276Z"
    }
   },
   "outputs": [],
   "source": [
    "# # For random Forest method\n",
    "\n",
    "# X_train, X_test, y_train, y_test = train_test_split(X_train, y_train, test_size=0.2, random_state=42)\n",
    "# rf_model = train_random_forest(X_train, y_train)\n",
    "\n",
    "# y_pred = rf_model.predict(X_test)\n",
    "\n",
    "# accuracy = accuracy_score(y_test, y_pred)\n",
    "# report = classification_report(y_test, y_pred)\n",
    "# print(f\"Random Forest Model Accuracy: {accuracy}\")\n",
    "# print(report)"
   ]
  },
  {
   "cell_type": "code",
   "execution_count": 23,
   "metadata": {
    "execution": {
     "iopub.execute_input": "2023-09-28T13:01:39.498597Z",
     "iopub.status.busy": "2023-09-28T13:01:39.497367Z",
     "iopub.status.idle": "2023-09-28T13:01:39.758450Z",
     "shell.execute_reply": "2023-09-28T13:01:39.757294Z",
     "shell.execute_reply.started": "2023-09-28T13:01:39.498527Z"
    }
   },
   "outputs": [],
   "source": [
    "# #For Logistic Regression method\n",
    "\n",
    "# X_train, X_test, y_train, y_test = train_test_split(X_train, y_train, test_size=0.2, random_state=42)\n",
    "# lr_model = train_logistic_regression(X_train, y_train)\n",
    "\n",
    "# y_pred = lr_model.predict(X_test)\n",
    "\n",
    "# accuracy = accuracy_score(y_test, y_pred)\n",
    "# report = classification_report(y_test, y_pred)\n",
    "# print(f\"Logistic Regression Model Accuracy: {accuracy}\")\n",
    "# print(report)\n"
   ]
  },
  {
   "cell_type": "code",
   "execution_count": 24,
   "metadata": {
    "execution": {
     "iopub.execute_input": "2023-09-28T16:25:52.492915Z",
     "iopub.status.busy": "2023-09-28T16:25:52.492524Z",
     "iopub.status.idle": "2023-09-28T16:25:52.500353Z",
     "shell.execute_reply": "2023-09-28T16:25:52.498998Z",
     "shell.execute_reply.started": "2023-09-28T16:25:52.492883Z"
    }
   },
   "outputs": [],
   "source": [
    "# Load X_train and y_train from saved files\n",
    "with open('X_train.pkl', 'rb') as f:\n",
    "    X_train = pickle.load(f)\n",
    "\n",
    "with open('y_train.pkl', 'rb') as f:\n",
    "    y_train = pickle.load(f)"
   ]
  },
  {
   "cell_type": "code",
   "execution_count": 25,
   "metadata": {
    "execution": {
     "iopub.execute_input": "2023-09-29T09:46:03.258888Z",
     "iopub.status.busy": "2023-09-29T09:46:03.258369Z",
     "iopub.status.idle": "2023-09-29T09:46:43.243943Z",
     "shell.execute_reply": "2023-09-29T09:46:43.242887Z",
     "shell.execute_reply.started": "2023-09-29T09:46:03.258848Z"
    }
   },
   "outputs": [
    {
     "name": "stdout",
     "output_type": "stream",
     "text": [
      "Epoch 1/50\n"
     ]
    },
    {
     "name": "stderr",
     "output_type": "stream",
     "text": [
      "2023-09-30 01:50:53.562332: I tensorflow/compiler/xla/stream_executor/cuda/cuda_gpu_executor.cc:995] successful NUMA node read from SysFS had negative value (-1), but there must be at least one NUMA node, so returning NUMA node zero. See more at https://github.com/torvalds/linux/blob/v6.0/Documentation/ABI/testing/sysfs-bus-pci#L344-L355\n",
      "2023-09-30 01:50:53.563971: W tensorflow/core/common_runtime/gpu/gpu_device.cc:1960] Cannot dlopen some GPU libraries. Please make sure the missing libraries mentioned above are installed properly if you would like to use GPU. Follow the guide at https://www.tensorflow.org/install/gpu for how to download and setup the required libraries for your platform.\n",
      "Skipping registering GPU devices...\n"
     ]
    },
    {
     "name": "stdout",
     "output_type": "stream",
     "text": [
      "375/375 [==============================] - 1s 1ms/step - loss: 0.3138 - accuracy: 0.8891 - val_loss: 0.2158 - val_accuracy: 0.9198\n",
      "Epoch 2/50\n",
      "375/375 [==============================] - 0s 625us/step - loss: 0.2252 - accuracy: 0.9246 - val_loss: 0.1909 - val_accuracy: 0.9300\n",
      "Epoch 3/50\n",
      "375/375 [==============================] - 1s 1ms/step - loss: 0.2092 - accuracy: 0.9292 - val_loss: 0.1837 - val_accuracy: 0.9315\n",
      "Epoch 4/50\n",
      "375/375 [==============================] - 0s 537us/step - loss: 0.2011 - accuracy: 0.9305 - val_loss: 0.1795 - val_accuracy: 0.9345\n",
      "Epoch 5/50\n",
      "375/375 [==============================] - 0s 930us/step - loss: 0.1949 - accuracy: 0.9328 - val_loss: 0.1832 - val_accuracy: 0.9318\n",
      "Epoch 6/50\n",
      "375/375 [==============================] - 0s 1ms/step - loss: 0.1895 - accuracy: 0.9332 - val_loss: 0.1762 - val_accuracy: 0.9323\n",
      "Epoch 7/50\n",
      "375/375 [==============================] - 0s 997us/step - loss: 0.1900 - accuracy: 0.9340 - val_loss: 0.1717 - val_accuracy: 0.9325\n",
      "Epoch 8/50\n",
      "375/375 [==============================] - 0s 1ms/step - loss: 0.1890 - accuracy: 0.9337 - val_loss: 0.1713 - val_accuracy: 0.9358\n",
      "Epoch 9/50\n",
      "375/375 [==============================] - 0s 599us/step - loss: 0.1860 - accuracy: 0.9337 - val_loss: 0.1745 - val_accuracy: 0.9330\n",
      "Epoch 10/50\n",
      "375/375 [==============================] - 0s 862us/step - loss: 0.1850 - accuracy: 0.9357 - val_loss: 0.1720 - val_accuracy: 0.9342\n",
      "Epoch 11/50\n",
      "375/375 [==============================] - 0s 1ms/step - loss: 0.1850 - accuracy: 0.9342 - val_loss: 0.1733 - val_accuracy: 0.9335\n",
      "Epoch 12/50\n",
      "375/375 [==============================] - 0s 956us/step - loss: 0.1872 - accuracy: 0.9355 - val_loss: 0.1680 - val_accuracy: 0.9348\n",
      "Epoch 13/50\n",
      "375/375 [==============================] - 0s 1ms/step - loss: 0.1829 - accuracy: 0.9335 - val_loss: 0.1669 - val_accuracy: 0.9360\n",
      "Epoch 14/50\n",
      "375/375 [==============================] - 0s 822us/step - loss: 0.1815 - accuracy: 0.9352 - val_loss: 0.1716 - val_accuracy: 0.9348\n",
      "Epoch 15/50\n",
      "375/375 [==============================] - 0s 1ms/step - loss: 0.1867 - accuracy: 0.9360 - val_loss: 0.1822 - val_accuracy: 0.9328\n",
      "Epoch 16/50\n",
      "375/375 [==============================] - 0s 1ms/step - loss: 0.1807 - accuracy: 0.9348 - val_loss: 0.1653 - val_accuracy: 0.9328\n",
      "Epoch 17/50\n",
      "375/375 [==============================] - 0s 763us/step - loss: 0.1819 - accuracy: 0.9344 - val_loss: 0.1672 - val_accuracy: 0.9368\n",
      "Epoch 18/50\n",
      "375/375 [==============================] - 0s 1ms/step - loss: 0.1818 - accuracy: 0.9347 - val_loss: 0.1657 - val_accuracy: 0.9382\n",
      "Epoch 19/50\n",
      "375/375 [==============================] - 0s 1ms/step - loss: 0.1795 - accuracy: 0.9374 - val_loss: 0.1656 - val_accuracy: 0.9352\n",
      "Epoch 20/50\n",
      "375/375 [==============================] - 0s 748us/step - loss: 0.1807 - accuracy: 0.9346 - val_loss: 0.1722 - val_accuracy: 0.9352\n",
      "Epoch 21/50\n",
      "375/375 [==============================] - 0s 1ms/step - loss: 0.1826 - accuracy: 0.9353 - val_loss: 0.1733 - val_accuracy: 0.9342\n"
     ]
    }
   ],
   "source": [
    "# Split train data into train and validation sets\n",
    "X_train, X_val, y_train, y_val = train_test_split(X_train_scaled, y_train, test_size=0.2, random_state=42)\n",
    "\n",
    "# Train the model\n",
    "model, history = train_model(X_train, y_train, X_val, y_val)"
   ]
  },
  {
   "cell_type": "code",
   "execution_count": 26,
   "metadata": {},
   "outputs": [
    {
     "data": {
      "text/plain": [
       "<matplotlib.legend.Legend at 0x7f57784aa380>"
      ]
     },
     "execution_count": 26,
     "metadata": {},
     "output_type": "execute_result"
    },
    {
     "data": {
      "image/png": "[encoded data removed]",
      "text/plain": [
       "<Figure size 640x480 with 1 Axes>"
      ]
     },
     "metadata": {},
     "output_type": "display_data"
    }
   ],
   "source": [
    "#plot the training and validation loss  \n",
    "plt.plot(history.history['loss'])\n",
    "plt.plot(history.history['val_loss'])\n",
    "plt.legend(['Training Loss', 'Validation Loss'], loc='upper right')"
   ]
  },
  {
   "cell_type": "code",
   "execution_count": 28,
   "metadata": {
    "execution": {
     "iopub.execute_input": "2023-09-28T16:27:00.457504Z",
     "iopub.status.busy": "2023-09-28T16:27:00.456284Z",
     "iopub.status.idle": "2023-09-28T16:27:00.639214Z",
     "shell.execute_reply": "2023-09-28T16:27:00.638012Z",
     "shell.execute_reply.started": "2023-09-28T16:27:00.457446Z"
    }
   },
   "outputs": [],
   "source": [
    "import pandas as pd\n",
    "\n",
    "# Read the CSV file into a DataFrame\n",
    "df = pd.read_csv('test.csv')\n",
    "\n",
    "# Create a list of tuples from the \"From\" and \"To\" columns\n",
    "test_list = [(row['From'], row['To']) for index, row in df.iterrows()]\n",
    "\n",
    "# Now, pairs_list contains pairs of elements as tuples from \"From\" and \"To\" columns\n",
    "#print(test_list)"
   ]
  },
  {
   "cell_type": "code",
   "execution_count": 29,
   "metadata": {
    "execution": {
     "iopub.execute_input": "2023-09-28T16:27:06.884310Z",
     "iopub.status.busy": "2023-09-28T16:27:06.883142Z",
     "iopub.status.idle": "2023-09-28T16:29:36.616562Z",
     "shell.execute_reply": "2023-09-28T16:29:36.615498Z",
     "shell.execute_reply.started": "2023-09-28T16:27:06.884274Z"
    }
   },
   "outputs": [],
   "source": [
    "# Calculate features for test data\n",
    "common_neighbors, jaccard_coefficient, adamic_adar_coefficient, resource_allocation_index, sorenson_index, total_followers, friends_measure, in_degree, out_degree, transitive_friends, edge_rank = calculate_features(G, test_list)\n",
    "\n",
    "# Combine features into a feature matrix\n",
    "X_test_ts = np.column_stack((common_neighbors, jaccard_coefficient, adamic_adar_coefficient, resource_allocation_index, sorenson_index, total_followers, friends_measure, in_degree, out_degree, transitive_friends, edge_rank))"
   ]
  },
  {
   "cell_type": "code",
   "execution_count": 30,
   "metadata": {
    "execution": {
     "iopub.execute_input": "2023-09-28T16:29:36.618722Z",
     "iopub.status.busy": "2023-09-28T16:29:36.618405Z",
     "iopub.status.idle": "2023-09-28T16:29:36.623674Z",
     "shell.execute_reply": "2023-09-28T16:29:36.622551Z",
     "shell.execute_reply.started": "2023-09-28T16:29:36.618695Z"
    }
   },
   "outputs": [
    {
     "name": "stdout",
     "output_type": "stream",
     "text": [
      "(2000, 11)\n"
     ]
    }
   ],
   "source": [
    "print(X_test_ts.shape)"
   ]
  },
  {
   "cell_type": "code",
   "execution_count": 31,
   "metadata": {
    "execution": {
     "iopub.execute_input": "2023-09-28T16:34:58.410782Z",
     "iopub.status.busy": "2023-09-28T16:34:58.408742Z",
     "iopub.status.idle": "2023-09-28T16:34:58.426303Z",
     "shell.execute_reply": "2023-09-28T16:34:58.425265Z",
     "shell.execute_reply.started": "2023-09-28T16:34:58.410681Z"
    }
   },
   "outputs": [],
   "source": [
    "# Standardize the feature values\n",
    "scaler = StandardScaler()\n",
    "X_test_ts_scaled = scaler.fit_transform(X_test_ts)"
   ]
  },
  {
   "cell_type": "code",
   "execution_count": 32,
   "metadata": {
    "execution": {
     "iopub.execute_input": "2023-09-28T16:35:00.710247Z",
     "iopub.status.busy": "2023-09-28T16:35:00.709409Z",
     "iopub.status.idle": "2023-09-28T16:35:00.717171Z",
     "shell.execute_reply": "2023-09-28T16:35:00.715890Z",
     "shell.execute_reply.started": "2023-09-28T16:35:00.710210Z"
    }
   },
   "outputs": [],
   "source": [
    "import pickle\n",
    "\n",
    "# Save X_train and y_train to a file\n",
    "with open('X_test_ts.pkl', 'wb') as f:\n",
    "    pickle.dump(X_test_ts, f)\n",
    "\n",
    "    \n",
    "    \n",
    "\n",
    "\n"
   ]
  },
  {
   "cell_type": "code",
   "execution_count": 33,
   "metadata": {},
   "outputs": [],
   "source": [
    "\n",
    "with open('X_train.pkl', 'rb') as f:\n",
    "    X_train_ts = pickle.load(f)\n"
   ]
  },
  {
   "cell_type": "code",
   "execution_count": 34,
   "metadata": {
    "execution": {
     "iopub.execute_input": "2023-09-28T13:08:44.137881Z",
     "iopub.status.busy": "2023-09-28T13:08:44.137438Z",
     "iopub.status.idle": "2023-09-28T13:08:44.144653Z",
     "shell.execute_reply": "2023-09-28T13:08:44.143512Z",
     "shell.execute_reply.started": "2023-09-28T13:08:44.137845Z"
    }
   },
   "outputs": [
    {
     "data": {
      "text/plain": [
       "2000"
      ]
     },
     "execution_count": 34,
     "metadata": {},
     "output_type": "execute_result"
    }
   ],
   "source": [
    "len(X_test_ts)"
   ]
  },
  {
   "cell_type": "code",
   "execution_count": 35,
   "metadata": {
    "execution": {
     "iopub.execute_input": "2023-09-28T16:44:28.408569Z",
     "iopub.status.busy": "2023-09-28T16:44:28.408095Z",
     "iopub.status.idle": "2023-09-28T16:44:28.657163Z",
     "shell.execute_reply": "2023-09-28T16:44:28.656121Z",
     "shell.execute_reply.started": "2023-09-28T16:44:28.408535Z"
    }
   },
   "outputs": [
    {
     "name": "stdout",
     "output_type": "stream",
     "text": [
      "63/63 [==============================] - 0s 334us/step\n"
     ]
    }
   ],
   "source": [
    "y_pred=model.predict(X_test_ts_scaled)\n",
    "#y_pred"
   ]
  },
  {
   "cell_type": "code",
   "execution_count": 36,
   "metadata": {
    "execution": {
     "iopub.execute_input": "2023-09-28T16:44:30.954160Z",
     "iopub.status.busy": "2023-09-28T16:44:30.953000Z",
     "iopub.status.idle": "2023-09-28T16:44:30.964064Z",
     "shell.execute_reply": "2023-09-28T16:44:30.963195Z",
     "shell.execute_reply.started": "2023-09-28T16:44:30.954120Z"
    }
   },
   "outputs": [],
   "source": [
    "# Save the array to a CSV file.\n",
    "np.savetxt('prob.csv', y_pred, delimiter=',', fmt='%s')"
   ]
  },
  {
   "cell_type": "code",
   "execution_count": 37,
   "metadata": {
    "execution": {
     "iopub.execute_input": "2023-09-28T16:52:01.283534Z",
     "iopub.status.busy": "2023-09-28T16:52:01.283048Z",
     "iopub.status.idle": "2023-09-28T16:52:01.297651Z",
     "shell.execute_reply": "2023-09-28T16:52:01.296610Z",
     "shell.execute_reply.started": "2023-09-28T16:52:01.283504Z"
    }
   },
   "outputs": [
    {
     "ename": "NameError",
     "evalue": "name 'ids' is not defined",
     "output_type": "error",
     "traceback": [
      "\u001b[0;31m---------------------------------------------------------------------------\u001b[0m",
      "\u001b[0;31mNameError\u001b[0m                                 Traceback (most recent call last)",
      "Cell \u001b[0;32mIn[37], line 1\u001b[0m\n\u001b[0;32m----> 1\u001b[0m results \u001b[38;5;241m=\u001b[39m np\u001b[38;5;241m.\u001b[39mcolumn_stack((\u001b[43mids\u001b[49m, y_pred))\n\u001b[1;32m      3\u001b[0m np\u001b[38;5;241m.\u001b[39msavetxt(\u001b[38;5;124m'\u001b[39m\u001b[38;5;124mpredictions.csv\u001b[39m\u001b[38;5;124m'\u001b[39m, results, delimiter\u001b[38;5;241m=\u001b[39m\u001b[38;5;124m'\u001b[39m\u001b[38;5;124m,\u001b[39m\u001b[38;5;124m'\u001b[39m, fmt\u001b[38;5;241m=\u001b[39m\u001b[38;5;124m'\u001b[39m\u001b[38;5;132;01m%f\u001b[39;00m\u001b[38;5;124m'\u001b[39m, header\u001b[38;5;241m=\u001b[39m\u001b[38;5;124m'\u001b[39m\u001b[38;5;124mID,Predictions\u001b[39m\u001b[38;5;124m'\u001b[39m, comments\u001b[38;5;241m=\u001b[39m\u001b[38;5;124m'\u001b[39m\u001b[38;5;124m'\u001b[39m)\n\u001b[1;32m      5\u001b[0m \u001b[38;5;28mprint\u001b[39m(\u001b[38;5;124m\"\u001b[39m\u001b[38;5;124mPredictions saved to \u001b[39m\u001b[38;5;124m'\u001b[39m\u001b[38;5;124mpredictions.csv\u001b[39m\u001b[38;5;124m'\u001b[39m\u001b[38;5;124m\"\u001b[39m)\n",
      "\u001b[0;31mNameError\u001b[0m: name 'ids' is not defined"
     ]
    }
   ],
   "source": [
    "\n",
    "\n",
    "\n",
    "results = np.column_stack((ids, y_pred))\n",
    "\n",
    "np.savetxt('predictions.csv', results, delimiter=',', fmt='%f', header='ID,Predictions', comments='')\n",
    "\n",
    "print(\"Predictions saved to 'predictions.csv'\")\n"
   ]
  },
  {
   "cell_type": "code",
   "execution_count": 38,
   "metadata": {
    "execution": {
     "iopub.execute_input": "2023-09-28T11:06:41.401236Z",
     "iopub.status.busy": "2023-09-28T11:06:41.400830Z",
     "iopub.status.idle": "2023-09-28T11:06:41.411697Z",
     "shell.execute_reply": "2023-09-28T11:06:41.410589Z",
     "shell.execute_reply.started": "2023-09-28T11:06:41.401205Z"
    }
   },
   "outputs": [],
   "source": [
    "# Assuming you have a list of predicted probabilities stored in 'predicted_probabilities'\n",
    "\n",
    "# Define a threshold \n",
    "threshold = 0.4061\n",
    "\n",
    "# Initialize a list to store binary predictions\n",
    "binary_predictions = []\n",
    "\n",
    "# Convert probabilities to binary predictions\n",
    "for prob in y_pred:\n",
    "    if prob > threshold:\n",
    "        binary_predictions.append(1)\n",
    "    else:\n",
    "        binary_predictions.append(0)\n",
    "\n",
    "# Now 'binary_predictions' contains your binary predictions\n"
   ]
  },
  {
   "cell_type": "code",
   "execution_count": null,
   "metadata": {
    "execution": {
     "iopub.execute_input": "2023-09-28T11:06:41.648632Z",
     "iopub.status.busy": "2023-09-28T11:06:41.648243Z",
     "iopub.status.idle": "2023-09-28T11:06:41.653593Z",
     "shell.execute_reply": "2023-09-28T11:06:41.652405Z",
     "shell.execute_reply.started": "2023-09-28T11:06:41.648599Z"
    }
   },
   "outputs": [],
   "source": [
    "#binary_predictions"
   ]
  },
  {
   "cell_type": "code",
   "execution_count": 39,
   "metadata": {
    "execution": {
     "iopub.execute_input": "2023-09-28T11:06:41.804921Z",
     "iopub.status.busy": "2023-09-28T11:06:41.804524Z",
     "iopub.status.idle": "2023-09-28T11:06:41.816164Z",
     "shell.execute_reply": "2023-09-28T11:06:41.814914Z",
     "shell.execute_reply.started": "2023-09-28T11:06:41.804889Z"
    }
   },
   "outputs": [],
   "source": [
    "# Convert the list to a NumPy array.\n",
    "array = np.array(binary_predictions)\n",
    "\n",
    "# Save the array to a CSV file.\n",
    "np.savetxt('binary.csv', array, delimiter=',', fmt='%s')"
   ]
  },
  {
   "cell_type": "code",
   "execution_count": 40,
   "metadata": {
    "execution": {
     "iopub.execute_input": "2023-09-28T11:06:41.968281Z",
     "iopub.status.busy": "2023-09-28T11:06:41.967520Z",
     "iopub.status.idle": "2023-09-28T11:06:41.975785Z",
     "shell.execute_reply": "2023-09-28T11:06:41.974783Z",
     "shell.execute_reply.started": "2023-09-28T11:06:41.968238Z"
    }
   },
   "outputs": [
    {
     "name": "stdout",
     "output_type": "stream",
     "text": [
      "Number of 1s: 1993\n",
      "Number of 0s: 7\n"
     ]
    }
   ],
   "source": [
    "import csv\n",
    "\n",
    "# Open the CSV file in read mode.\n",
    "with open('binary.csv', 'r') as f:\n",
    "    # Create a csv.reader object.\n",
    "    reader = csv.reader(f)\n",
    "\n",
    "    # Count the number of 1s and 0s in each row.\n",
    "    count_1 = 0\n",
    "    count_0 = 0\n",
    "    for row in reader:\n",
    "        for item in row:\n",
    "            if item == '1':\n",
    "                count_1 += 1\n",
    "            elif item == '0':\n",
    "                count_0 += 1\n",
    "\n",
    "    # Print the total number of 1s and 0s.\n",
    "    print('Number of 1s:', count_1)\n",
    "    print('Number of 0s:', count_0)\n"
   ]
  },
  {
   "cell_type": "code",
   "execution_count": 41,
   "metadata": {},
   "outputs": [
    {
     "name": "stdout",
     "output_type": "stream",
     "text": [
      "Predictions saved to 'predictions.csv'\n"
     ]
    }
   ],
   "source": [
    "ids = np.arange(1, 2001)\n",
    "\n",
    " \n",
    "\n",
    "# Combine IDs and predictions into a single array\n",
    "results = np.column_stack((ids, y_pred))\n",
    "\n",
    " \n",
    "\n",
    "# Save the array to a CSV file with headers for ID and Predictions\n",
    "np.savetxt('predictions.csv', results, delimiter=',', fmt='%s', header='ID,Predictions', comments='')\n",
    "\n",
    " \n",
    "\n",
    "print(\"Predictions saved to 'predictions.csv'\")"
   ]
  }
 ],
 "metadata": {
  "kernelspec": {
   "display_name": "Python 3 (ipykernel)",
   "language": "python",
   "name": "python3"
  },
  "language_info": {
   "codemirror_mode": {
    "name": "ipython",
    "version": 3
   },
   "file_extension": ".py",
   "mimetype": "text/x-python",
   "name": "python",
   "nbconvert_exporter": "python",
   "pygments_lexer": "ipython3",
   "version": "3.10.12"
  }
 },
 "nbformat": 4,
 "nbformat_minor": 4
}
