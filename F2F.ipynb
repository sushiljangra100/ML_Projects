{
 "cells": [
  {
   "cell_type": "markdown",
   "id": "c1ba2ccc-cfa6-48bd-8588-80afb631ad1e",
   "metadata": {},
   "source": [
    "### QUESTION_3"
   ]
  },
  {
   "cell_type": "markdown",
   "id": "57c26a20",
   "metadata": {},
   "source": [
    "As a part of the estimation of the tree biomass, we need the tree trunk diameter. Which is\n",
    "the tree diameter at breast height(DBH). But, we don’t get the Diameter at breast height\n",
    "data from the drone orthomosaic. So, we decided to get it from the 3 variables given below -\n",
    "a. Tree species\n",
    "b. Tree height\n",
    "c. Tree crown size\n",
    "We have some ground data collected, which is uploaded in https://drive.google.com/drive/folders/1zYBCBJlYS-5KCU4AUpMXHSS4jHadfuZS?usp=drive_link.\n",
    "So, please develop and train the Machine Learning Model to get the Tree DBH from the Tree\n",
    "Species, Tree Height and Tree Crown Size.\n",
    "Share the code you have used to train the model and some description on the methodology\n",
    "and results in the document."
   ]
  },
  {
   "cell_type": "markdown",
   "id": "35d64f04-7590-42af-9609-79b8b4b6210f",
   "metadata": {},
   "source": [
    "#### About the code:\n",
    "This code performs a regression task using a Random Forest algorithm to predict the diameter at breast height (TreeDBH_cm) of trees based on some features. Here's a breakdown of the code:\n",
    "\n",
    "1. Import necessary libraries:\n",
    "   - `pandas` is imported as `pd` for data manipulation.\n",
    "   - `train_test_split` from `sklearn.model_selection` is used to split the dataset into training and testing sets.\n",
    "   - `RandomForestRegressor` from `sklearn.ensemble` is the regression model used.\n",
    "   - `mean_absolute_error` from `sklearn.metrics` is used to evaluate the model's performance.\n",
    "\n",
    "2. Load the dataset:\n",
    "   - The dataset is loaded from a CSV file located at '/home/sushil/Desktop/F2F/data_for_assignment.csv' into a pandas DataFrame named `data`.\n",
    "\n",
    "3. Preprocessing:\n",
    "   - Categorical variables are converted into numerical format using one-hot encoding. This is done using the `pd.get_dummies()` function, where the column 'Tree species' is one-hot encoded.\n",
    "\n",
    "4. Split the dataset into features (X) and target variable (y):\n",
    "   - The features (`X`) are obtained by dropping the 'TreeDBH_cm' column from the DataFrame.\n",
    "   - The target variable (`y`) is set to the 'TreeDBH_cm' column.\n",
    "\n",
    "5. Split the data into training and testing sets:\n",
    "   - The dataset is split into training and testing sets using `train_test_split()`, with 80% of the data used for training (`X_train`, `y_train`) and 20% for testing (`X_test`, `y_test`). The parameter `random_state` is set to 42 for reproducibility.\n",
    "\n",
    "6. Model training:\n",
    "   - A Random Forest regression model is instantiated with `RandomForestRegressor()` and trained on the training data (`X_train`, `y_train`) using the `fit()` method.\n",
    "\n",
    "7. Predictions:\n",
    "   - The trained model is then used to make predictions on the testing features (`X_test`) using the `predict()` method, resulting in predicted values (`y_pred`).\n",
    "\n",
    "8. Evaluation:\n",
    "   - Mean Absolute Error (MAE) is calculated to evaluate the performance of the model. MAE measures the average absolute difference between the actual and predicted values. The calculated MAE is then printed out."
   ]
  },
  {
   "cell_type": "code",
   "execution_count": 13,
   "id": "1cf9d33e-1539-4041-8f6e-0507ad6543c6",
   "metadata": {},
   "outputs": [
    {
     "name": "stdout",
     "output_type": "stream",
     "text": [
      "Mean Absolute Error: 2.1564795321936985\n"
     ]
    }
   ],
   "source": [
    "# Import necessary libraries\n",
    "import pandas as pd\n",
    "from sklearn.model_selection import train_test_split\n",
    "from sklearn.ensemble import RandomForestRegressor\n",
    "from sklearn.metrics import mean_absolute_error\n",
    "\n",
    "# Load the dataset from Excel file\n",
    "data = pd.read_csv('/home/sushil/Desktop/F2F/data_for_assignment.csv')\n",
    "\n",
    "# Preprocessing: Convert categorical variables to numerical using one-hot encoding\n",
    "data = pd.get_dummies(data, columns=['Tree species'])\n",
    "\n",
    "# Split the dataset into features (X) and target variable (y)\n",
    "X = data.drop(columns=['TreeDBH_cm'])\n",
    "y = data['TreeDBH_cm']\n",
    "\n",
    "# Split the data into training and testing sets (80% training, 20% testing)\n",
    "X_train, X_test, y_train, y_test = train_test_split(X, y, test_size=0.2, random_state=42)\n",
    "\n",
    "# Model training\n",
    "model = RandomForestRegressor(random_state=42)\n",
    "model.fit(X_train, y_train)\n",
    "\n",
    "# Predictions\n",
    "y_pred = model.predict(X_test)\n",
    "\n",
    "# Evaluation\n",
    "mae = mean_absolute_error(y_test, y_pred)\n",
    "print(\"Mean Absolute Error:\", mae)\n"
   ]
  },
  {
   "cell_type": "markdown",
   "id": "52144af7-2604-4179-b9eb-4f7a7da904ef",
   "metadata": {},
   "source": [
    "### Question 2"
   ]
  },
  {
   "cell_type": "markdown",
   "id": "1d221372",
   "metadata": {},
   "source": [
    "Consider we will have 3000 plots where we will be doing the Agroforestry plantation, and we\n",
    "want to calculate the NDVI of all the fields from the multispectral drone data. We can use the\n",
    "QGIS/ArcGIS for calculating it for a small number of plots. But, we will need some code to\n",
    "automate this calculation for a large number of plots. So, please write a code to calculate the\n",
    "NDVI from the multispectral drone data given https://drive.google.com/drive/folders/1n7sp_eJIevkJ-Fsp97AuN_C_jBpkndG8?usp=drive_link"
   ]
  },
  {
   "cell_type": "markdown",
   "id": "8439c0ee-a2e9-40bd-b0c6-0248056010a7",
   "metadata": {},
   "source": [
    "#### About the code\n",
    "This code calculates the Normalized Difference Vegetation Index (NDVI) from two input raster files containing near-infrared (NIR) and red band data. Here's a breakdown of what each part of the code does:\n",
    "\n",
    "1. Import Libraries:\n",
    "   - `numpy` is imported as `np` for numerical operations.\n",
    "   - `rasterio` is imported for reading and writing raster files.\n",
    "\n",
    "2. Function Definition (`calculate_ndvi`):\n",
    "   - This function takes three arguments: `red_file`, `nir_file`, and `output_file`, representing the file paths for the red band, NIR band, and the output NDVI file, respectively.\n",
    "\n",
    "3. Opening Raster Files:\n",
    "   - The red and NIR bands are opened using `rasterio.open()`.\n",
    "   - The `with` statement is used to ensure proper closing of the raster files after use.\n",
    "\n",
    "4. Reading Band Data:\n",
    "   - The red and NIR bands are read as arrays using `.read(1)` (assuming single-band images) and converted to `np.float32` data type.\n",
    "\n",
    "5. Masking Nodata Values:\n",
    "   - Nodata values in the red and NIR bands are identified and replaced with `np.nan` (Not a Number) to exclude them from calculations.\n",
    "\n",
    "6. Calculating NDVI:\n",
    "   - NDVI is calculated using the formula: {(NIR - Red)}/{(NIR + Red)}.\n",
    "\n",
    "7. Writing NDVI to Output File:\n",
    "   - The metadata (profile) of the red band raster is copied to ensure consistency.\n",
    "   - The datatype of the output raster is set to `rasterio.float32`.\n",
    "   - The NDVI array is written to the output file using `rasterio.open()` in write mode (`'w'`).\n",
    "\n",
    "8. Example Usage:\n",
    "   - An example call to the `calculate_ndvi` function is provided, specifying the file paths for the red band, NIR band, and the output NDVI file."
   ]
  },
  {
   "cell_type": "code",
   "execution_count": 14,
   "id": "62311797-94af-41c0-b6dc-c5b7029f51a6",
   "metadata": {},
   "outputs": [
    {
     "name": "stderr",
     "output_type": "stream",
     "text": [
      "/home/sushil/.local/lib/python3.10/site-packages/rasterio/__init__.py:304: NotGeoreferencedWarning: Dataset has no geotransform, gcps, or rpcs. The identity matrix will be returned.\n",
      "  dataset = DatasetReader(path, driver=driver, sharing=sharing, **kwargs)\n",
      "/home/sushil/.local/lib/python3.10/site-packages/rasterio/__init__.py:314: NotGeoreferencedWarning: The given matrix is equal to Affine.identity or its flipped counterpart. GDAL may ignore this matrix and save no geotransform without raising an error. This behavior is somewhat driver-specific.\n",
      "  dataset = writer(\n"
     ]
    }
   ],
   "source": [
    "import numpy as np\n",
    "import rasterio\n",
    "\n",
    "def calculate_ndvi(red_file, nir_file, output_file):\n",
    "    # Open red and NIR bands\n",
    "    with rasterio.open(red_file) as red_src, rasterio.open(nir_file) as nir_src:\n",
    "        # Read band data as arrays\n",
    "        red_band = red_src.read(1).astype(np.float32)\n",
    "        nir_band = nir_src.read(1).astype(np.float32)\n",
    "\n",
    "        # Mask out nodata values\n",
    "        red_nodata = red_src.nodata\n",
    "        nir_nodata = nir_src.nodata\n",
    "        red_band[red_band == red_nodata] = np.nan\n",
    "        nir_band[nir_band == nir_nodata] = np.nan\n",
    "\n",
    "        # Calculate NDVI\n",
    "        ndvi = (nir_band - red_band) / (nir_band + red_band)\n",
    "\n",
    "        # Write NDVI to output file\n",
    "        profile = red_src.profile\n",
    "        profile.update(dtype=rasterio.float32)\n",
    "\n",
    "        with rasterio.open(output_file, 'w', **profile) as dst:\n",
    "            dst.write(ndvi.astype(rasterio.float32), 1)\n",
    "\n",
    "# Example usage\n",
    "calculate_ndvi(\"/home/sushil/Desktop/F2F/MultispectralDroneData-20240420T061142Z-001/MultispectralDroneData/DJI_20240318112444_0001_MS_R.TIF\", \"/home/sushil/Desktop/F2F/MultispectralDroneData-20240420T061142Z-001/MultispectralDroneData/DJI_20240318112444_0001_MS_NIR.TIF\", \"output_ndvi.tif\")\n"
   ]
  },
  {
   "cell_type": "code",
   "execution_count": null,
   "id": "47e24304-2344-4543-a2fa-8f82dcf5b777",
   "metadata": {},
   "outputs": [],
   "source": []
  }
 ],
 "metadata": {
  "kernelspec": {
   "display_name": "Python 3 (ipykernel)",
   "language": "python",
   "name": "python3"
  },
  "language_info": {
   "codemirror_mode": {
    "name": "ipython",
    "version": 3
   },
   "file_extension": ".py",
   "mimetype": "text/x-python",
   "name": "python",
   "nbconvert_exporter": "python",
   "pygments_lexer": "ipython3",
   "version": "3.10.9"
  }
 },
 "nbformat": 4,
 "nbformat_minor": 5
}
